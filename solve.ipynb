{
 "cells": [
  {
   "cell_type": "code",
   "execution_count": null,
   "metadata": {},
   "outputs": [],
   "source": [
    "import os\n",
    "from amplpy import AMPL"
   ]
  },
  {
   "cell_type": "code",
   "execution_count": null,
   "metadata": {},
   "outputs": [],
   "source": [
    "ROOT = 'data/benchmark_base'\n",
    "DATA = os.path.join(ROOT, 'benchmark.dat')\n",
    "MODEL = os.path.join(ROOT, 'benchmark.mod')\n",
    "SOLVER = 'highs'"
   ]
  },
  {
   "cell_type": "code",
   "execution_count": null,
   "metadata": {},
   "outputs": [],
   "source": [
    "\n",
    "ampl = AMPL() # instantiate AMPL object\n",
    "\n",
    "# Set the solver to use\n",
    "ampl.set_option(\"solver\", SOLVER)\n",
    "\n",
    "# Read the model and data files.\n",
    "ampl.read(MODEL)\n",
    "ampl.read_data(DATA)\n",
    "\n",
    "# Show model\n",
    "print(\"\\n### PARAMETERS ###\\n\")\n",
    "for param in ampl.get_parameters():\n",
    "    print(param)\n",
    "\n",
    "print(\"\\n### OBJECTIVESS ###\\n\")\n",
    "for obj in ampl.get_objectives():\n",
    "    print(obj)\n",
    "\n",
    "print(\"\\n### CONSTRAINTS ###\\n\")\n",
    "for constr in ampl.get_constraints():\n",
    "    print(constr)\n",
    "print('\\n --------------------------------------------------------------------------')\n",
    "\n",
    "# Solve\n",
    "print('\\n### SOLVING ###\\n')\n",
    "ampl.solve()\n",
    "if ampl.solve_result != \"solved\":\n",
    "    raise Exception(f\"Failed to solve (solve_result: {ampl.solve_result})\")\n",
    "\n",
    "# Get objective entity by AMPL name\n",
    "totalcost = ampl.get_objective(\"obj\")\n",
    "# Print it\n",
    "print(\"Objective is:\", totalcost.value())\n",
    "\n",
    "print('\\n### SHOW SOLUTION ###\\n')\n",
    "for var in ampl.get_variables():\n",
    "    print(ampl.get_data(var[0]).to_pandas())\n",
    "    print('--------------------')"
   ]
  },
  {
   "cell_type": "code",
   "execution_count": null,
   "metadata": {},
   "outputs": [],
   "source": []
  }
 ],
 "metadata": {
  "kernelspec": {
   "display_name": "giaba",
   "language": "python",
   "name": "python3"
  },
  "language_info": {
   "codemirror_mode": {
    "name": "ipython",
    "version": 3
   },
   "file_extension": ".py",
   "mimetype": "text/x-python",
   "name": "python",
   "nbconvert_exporter": "python",
   "pygments_lexer": "ipython3",
   "version": "3.10.14"
  }
 },
 "nbformat": 4,
 "nbformat_minor": 2
}
