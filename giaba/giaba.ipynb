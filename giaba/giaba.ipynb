{
 "cells": [
  {
   "cell_type": "code",
   "execution_count": null,
   "metadata": {},
   "outputs": [],
   "source": [
    "from giaba import TaskManager"
   ]
  },
  {
   "cell_type": "code",
   "execution_count": null,
   "metadata": {},
   "outputs": [],
   "source": [
    "tm = TaskManager()\n",
    "# ---------- #\n",
    "# for _ in range(100):\n",
    "#     tm.add_random_task()\n",
    "# tm.complete()\n",
    "# tm.save_tasks('benchmark_tasks.csv')\n",
    "# --- OR --- #\n",
    "tm.load_tasks('angio_task.csv')\n",
    "tm.complete()\n",
    "# ---------- #"
   ]
  },
  {
   "cell_type": "code",
   "execution_count": null,
   "metadata": {},
   "outputs": [],
   "source": [
    "results = tm.solve(chunk_size=8, top_n=3, pruning_threshold=50)\n",
    "print('Number of equivalent solutions found:', len(results))\n",
    "print('Penalty per task', results.penalty)\n",
    "print('Cumulative required time', results.cumlength)\n",
    "print('Task types', results.task_types)\n",
    "print('Ordered task indices', results.task_indices)\n",
    "print('Total penalty:', results.sumpenalty)\n",
    "print('Total required time:', results.sumlength)"
   ]
  }
 ],
 "metadata": {
  "kernelspec": {
   "display_name": "base",
   "language": "python",
   "name": "python3"
  },
  "language_info": {
   "codemirror_mode": {
    "name": "ipython",
    "version": 3
   },
   "file_extension": ".py",
   "mimetype": "text/x-python",
   "name": "python",
   "nbconvert_exporter": "python",
   "pygments_lexer": "ipython3",
   "version": "3.10.14"
  }
 },
 "nbformat": 4,
 "nbformat_minor": 2
}
