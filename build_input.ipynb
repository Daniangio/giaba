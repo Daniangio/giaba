{
 "cells": [
  {
   "cell_type": "code",
   "execution_count": 1,
   "metadata": {},
   "outputs": [],
   "source": [
    "import os"
   ]
  },
  {
   "cell_type": "code",
   "execution_count": 2,
   "metadata": {},
   "outputs": [],
   "source": [
    "ROOT = 'data/example'\n",
    "DATA = os.path.join(ROOT, 'blending.dat')\n",
    "MODEL = os.path.join(ROOT, 'blending.mod')"
   ]
  },
  {
   "cell_type": "code",
   "execution_count": null,
   "metadata": {},
   "outputs": [],
   "source": [
    "from typing import List\n",
    "\n",
    "\n",
    "class Set:\n",
    "\n",
    "    _name: str\n",
    "    _elems: List[int]\n",
    "\n",
    "    def __init__(self, name: str, elems: int):\n",
    "        self._name = name\n",
    "        self._elems = list(range(elems))\n",
    "    \n",
    "    @property\n",
    "    def name(self):\n",
    "        return self._name\n",
    "    \n",
    "    @property\n",
    "    def elems(self):\n",
    "        return ' '.join(self._elems)\n",
    "\n",
    "class Param:\n",
    "\n",
    "    _name: str\n",
    "    _elems: List[int]\n",
    "\n",
    "    def __init__(self, name: str, elems: int):\n",
    "        self._name = name\n",
    "        self._elems = list(range(elems))\n",
    "    \n",
    "    @property\n",
    "    def name(self):\n",
    "        return self._name\n",
    "    \n",
    "    @property\n",
    "    def elems(self):\n",
    "        return ' '.join(self._elems)"
   ]
  },
  {
   "cell_type": "code",
   "execution_count": null,
   "metadata": {},
   "outputs": [],
   "source": [
    "data_txt = '''\n",
    "data;\n",
    "\n",
    "SETS\n",
    "\n",
    "PARAMS\n",
    "'''\n",
    "\n",
    "sets: List[Set] = []\n",
    "params: List[Param] = []\n",
    "\n",
    "sets_txt = ''\n",
    "params_txt = ''\n",
    "\n",
    "for set in sets:\n",
    "    sets_txt += f'set {set.name} := {set.elems};\\n'\n",
    "\n",
    "for param in params:\n",
    "    params_txt += f'param {param.name} := \\n{param.elems};\\n'\n",
    "\n",
    "data_txt.replace('SETS', sets_txt)\n",
    "data_txt.replace('PARAMS', params_txt)"
   ]
  }
 ],
 "metadata": {
  "kernelspec": {
   "display_name": "giaba",
   "language": "python",
   "name": "python3"
  },
  "language_info": {
   "codemirror_mode": {
    "name": "ipython",
    "version": 3
   },
   "file_extension": ".py",
   "mimetype": "text/x-python",
   "name": "python",
   "nbconvert_exporter": "python",
   "pygments_lexer": "ipython3",
   "version": "3.10.14"
  }
 },
 "nbformat": 4,
 "nbformat_minor": 2
}
