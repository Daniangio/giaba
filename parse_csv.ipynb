{
 "cells": [
  {
   "cell_type": "code",
   "execution_count": 4,
   "metadata": {},
   "outputs": [],
   "source": [
    "import pandas as pd\n",
    "import numpy as np"
   ]
  },
  {
   "cell_type": "code",
   "execution_count": 5,
   "metadata": {},
   "outputs": [],
   "source": [
    "df = pd.read_csv('data/benchmark/benchmark_raw.csv', sep=',')"
   ]
  },
  {
   "cell_type": "code",
   "execution_count": 6,
   "metadata": {},
   "outputs": [
    {
     "data": {
      "text/plain": [
       "9316.0"
      ]
     },
     "execution_count": 6,
     "metadata": {},
     "output_type": "execute_result"
    }
   ],
   "source": [
    "# ,type,length,deadline,oh,penalty,id\n",
    "df['penalty'] = 1\n",
    "u_type = df.type.unique()\n",
    "df.type = np.array([np.argwhere(u_type==t) for t in df.type]).flatten()\n",
    "df.rename(columns={'Deadline_soft':'deadline'}, inplace=True)\n",
    "df = df[['type', 'length', 'deadline', 'penalty', 'id']]\n",
    "df.to_csv('data/benchmark/benchmark.csv')\n",
    "df['length'].sum()"
   ]
  }
 ],
 "metadata": {
  "kernelspec": {
   "display_name": "giaba",
   "language": "python",
   "name": "python3"
  },
  "language_info": {
   "codemirror_mode": {
    "name": "ipython",
    "version": 3
   },
   "file_extension": ".py",
   "mimetype": "text/x-python",
   "name": "python",
   "nbconvert_exporter": "python",
   "pygments_lexer": "ipython3",
   "version": "3.10.14"
  }
 },
 "nbformat": 4,
 "nbformat_minor": 2
}
